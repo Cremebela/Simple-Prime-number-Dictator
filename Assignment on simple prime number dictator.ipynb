{
 "cells": [
  {
   "cell_type": "code",
   "execution_count": null,
   "metadata": {},
   "outputs": [],
   "source": [
    "#Asking user to enter a number \n",
    "number = int(input(\"Enter any number\"))\n",
    "\n",
    "if number > 1:\n",
    "    for i in range(2, int(number/2)+1):\n",
    "        if (number % i) == 0:\n",
    "            print(number, \"is not a prime number\")\n",
    "            break\n",
    "        else:\n",
    "            print(number, \"is a prime number\")\n",
    "            break"
   ]
  },
  {
   "cell_type": "code",
   "execution_count": null,
   "metadata": {},
   "outputs": [],
   "source": []
  },
  {
   "cell_type": "code",
   "execution_count": null,
   "metadata": {},
   "outputs": [],
   "source": [
    "int(number/2)+1"
   ]
  },
  {
   "cell_type": "code",
   "execution_count": null,
   "metadata": {},
   "outputs": [],
   "source": [
    "#Asking user to enter a number \n",
    "number = int(input(\"Enter any number\"))\n",
    "if number <= 1:\n",
    "    print(number, \"is not a prime number\")\n",
    "else:\n",
    "    for i in range(2, number):\n",
    "        if (number % i) == 0:\n",
    "            print(number, \"is not a prime number\")\n",
    "            break\n",
    "        else:\n",
    "            print(number, \"is a prime number\")\n",
    "            break"
   ]
  },
  {
   "cell_type": "code",
   "execution_count": null,
   "metadata": {},
   "outputs": [],
   "source": []
  },
  {
   "cell_type": "code",
   "execution_count": null,
   "metadata": {},
   "outputs": [],
   "source": []
  },
  {
   "cell_type": "code",
   "execution_count": null,
   "metadata": {},
   "outputs": [],
   "source": []
  },
  {
   "cell_type": "code",
   "execution_count": null,
   "metadata": {},
   "outputs": [],
   "source": []
  },
  {
   "cell_type": "code",
   "execution_count": null,
   "metadata": {},
   "outputs": [],
   "source": []
  },
  {
   "cell_type": "code",
   "execution_count": null,
   "metadata": {},
   "outputs": [],
   "source": []
  },
  {
   "cell_type": "code",
   "execution_count": null,
   "metadata": {},
   "outputs": [],
   "source": [
    "n = int(input(\"Enter a number:\"))\n",
    "if n>1:\n",
    "    for i in range(2, n//2):\n",
    "        if(n%i)==0:\n",
    "            print(n, \"is not a prime number\")\n",
    "            break\n",
    "        else:\n",
    "            print(n, \"is a prime number\")\n",
    "else:\n",
    "    print(n, \"is neither a prime number nor a composite\")\n",
    "    "
   ]
  },
  {
   "cell_type": "code",
   "execution_count": null,
   "metadata": {},
   "outputs": [],
   "source": [
    "num = int(input(\"Enter any number\"))\n",
    "if num >1:\n",
    "    for i in range(2, (num // 2) +1):\n",
    "        if (num % i)==0:\n",
    "            print(num, \"is not a prime number\")\n",
    "            print(i, \"times\", num//i, \"is\", num)\n",
    "            break;\n",
    "        else:\n",
    "            print(num, \"is a prime number\")\n",
    "            break"
   ]
  },
  {
   "cell_type": "code",
   "execution_count": null,
   "metadata": {},
   "outputs": [],
   "source": [
    "print(\"Enter a number\", end =\"\")\n",
    "num = int(input())\n",
    "\n",
    "if num > 1:\n",
    "    for i in range(2, int(num/2)+1):\n",
    "        if(num % i) ==0:\n",
    "            print(str(num), \"is not a prime number\")\n",
    "            break;\n",
    "        else:\n",
    "            print(str(num), \"is a prime number\")"
   ]
  },
  {
   "cell_type": "code",
   "execution_count": null,
   "metadata": {},
   "outputs": [],
   "source": [
    "num = int(input(\"Please enter a number: \"))\n",
    "if num > 1:\n",
    "    for i in range(2, (num//2)+1):\n",
    "        if (num % i) ==0:\n",
    "            print(num, \"is not a prime number\")\n",
    "            break\n",
    "else:\n",
    "     print(num, \"is a prime number\")"
   ]
  },
  {
   "cell_type": "code",
   "execution_count": null,
   "metadata": {},
   "outputs": [],
   "source": []
  }
 ],
 "metadata": {
  "interpreter": {
   "hash": "9bf2ca0f4a7adc3ce2f237ca763c1538d3ef289a4e7face3612a01cdae9f6807"
  },
  "kernelspec": {
   "display_name": "Python 3.10.0 64-bit",
   "language": "python",
   "name": "python3"
  },
  "language_info": {
   "codemirror_mode": {
    "name": "ipython",
    "version": 3
   },
   "file_extension": ".py",
   "mimetype": "text/x-python",
   "name": "python",
   "nbconvert_exporter": "python",
   "pygments_lexer": "ipython3",
   "version": "3.10.0"
  },
  "orig_nbformat": 4
 },
 "nbformat": 4,
 "nbformat_minor": 2
}
